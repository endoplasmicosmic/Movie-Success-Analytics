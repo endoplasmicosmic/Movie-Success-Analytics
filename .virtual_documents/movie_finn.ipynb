from matplotlib import pyplot as plt
from scipy.stats import stats
from scipy.stats import ttest_ind
from scipy.stats import sem
from scipy.stats import linregress
from sklearn import datasets
import matplotlib.ticker as ticker
import pandas as pd
import numpy as np
import scipy.stats as st
import pandas as pd


clean_data = "Resource/movie_clean.csv"
clean_data_df = pd.read_csv(clean_data)
clean_data_df


# Calculate Profit Margin
clean_data_df['Profit Margin'] = clean_data_df['Worldwide Gross'] - clean_data_df['Production Cost']

# Perform linear regression using scipy
rating = clean_data_df['Rating']
profit_margin = clean_data_df['Profit Margin']
slope, intercept, r_value, p_value, std_err = linregress(rating, profit_margin)

# Calculate the regression line values
regression_line = slope * rating + intercept

# Print the r_value and p_value
print(f'Correlation coefficient (r): {r_value:.2f}')
print(f'Probability value (p): {p_value}')

# Plotting
plt.scatter(rating, profit_margin, color='mediumspringgreen', label='Data points')
plt.plot(rating, regression_line, color='mediumslateblue', label=f'Regression line (r = {r_value:.2f})')
plt.xlabel('IMDB Rating')
plt.ylabel('Profit Margin ($)')
plt.gca().yaxis.set_major_formatter(ticker.FuncFormatter(lambda y, pos: f'{int(y):,}'))
plt.title('Profit Margin vs. IMDB Rating')
plt.tight_layout()
plt.legend()
#Save image to Visuals folder
plt.savefig("movie_analysis_visualizations/profitvrating.png")
plt.show()


# Convert 'Release Date' to datetime
clean_data_df['Release Date'] = pd.to_datetime(clean_data_df['Release Date'])

# Define the summer months
summer_months = [5, 6, 7, 8, 9]

# Categorize 'Release Date' into 'Summer' and 'Non-Summer'
clean_data_df['Season'] = np.where(clean_data_df['Release Date'].dt.month.isin(summer_months), 'Summer', 'Non-Summer')

# Independent t-test
summer_data = clean_data_df[clean_data_df['Season'] == 'Summer']['Opening Weekend']
non_summer_data = clean_data_df[clean_data_df['Season'] == 'Non-Summer']['Opening Weekend']
t_stat, p_val = ttest_ind(summer_data, non_summer_data, equal_var=False)

# Box plot for visualization
plt.figure(figsize=(10, 6))
clean_data_df.boxplot(column='Opening Weekend', by='Season', grid=False)
plt.text(0.95, 0.95, f'T-statistic: {t_stat:.2f}/P-value: {p_val:.2e}', transform=plt.gca().transAxes, fontsize=10, verticalalignment='top', horizontalalignment='right')
plt.title('Opening Weekend by Season')
plt.suptitle('')
plt.xlabel('Season')
plt.ylabel('Opening Weekend ($)')
plt.gca().yaxis.set_major_formatter(ticker.FuncFormatter(lambda y, pos: f'{int(y):,}'))
plt.tight_layout()
#Save image to Visuals folder
plt.savefig("movie_analysis_visualizations/openingbyseason.png")
plt.show()

print(f'T-statistic: {t_stat:.2f}')
print(f'P-value: {p_val:.2f}')



