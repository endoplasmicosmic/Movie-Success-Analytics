from matplotlib import pyplot as plt
from scipy import stats
from scipy.stats import sem
from scipy.stats import linregress
from sklearn import datasets
import pandas as pd
import numpy as np
import scipy.stats as st
import pandas as pd
import datetime as datetime64 


#Specifying file paths
imdb_data = "Resource/imdb-movies-dataset.csv"
top500_data = "Resource/top-500-movies.csv"

#Reading all data into Pandas
imdb_data_df = pd.read_csv(imdb_data)
top500_data_df = pd.read_csv(top500_data)


#Merge dataframes using "Title"
merge_movie_df = pd.merge(top500_data_df, imdb_data_df, how='left', on='Title')
merge_movie_df


#Narrow dataframe down to only columns needed and rename columns
selected_columns = ['Title', 'Duration (min)', 'Rating', 'Director', 'Cast', 'release_date', 'production_cost', 'worldwide_gross', 'opening_weekend', 'mpaa', 'genre']

movie_sub_df = merge_movie_df[selected_columns]

movie_sub_df.head()


#Rename columns
movie_sub_df=movie_sub_df.rename(columns=
                      {'release_date': 'Release Date', 
                       'production_cost': 'Production Cost', 
                       'worldwide_gross': 'Worldwide Gross', 
                       'opening_weekend': 'Opening Weekend', 
                       'mpaa': 'MPAA', 
                       'genre': 'Genre'})
movie_sub_df.head()


# Drop rows with empty cells
movie_clean_df=movie_sub_df.dropna()
movie_clean_df


# Export clean df as csv in Resources folder for communal access
movie_clean_df.to_csv("Resource/movie_clean.csv", index_label='Rank')



