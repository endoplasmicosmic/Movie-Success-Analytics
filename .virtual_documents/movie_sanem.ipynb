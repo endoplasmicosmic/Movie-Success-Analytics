from matplotlib import pyplot as plt
from scipy import stats
from scipy.stats import sem
from scipy.stats import linregress
from scipy.stats import f_oneway
from sklearn import datasets
from matplotlib.patches import Rectangle
import matplotlib.ticker as ticker
import pandas as pd
import numpy as np
import scipy.stats as st
import pandas as pd


#Specifying file paths
movie_data = "Resource/movie_clean.csv"

#Reading all data into Pandas
movie_data_df = pd.read_csv(movie_data)

#Print the csv
movie_data_df


# Split the Cast column by commas, take the first two names, and join them back together
movie_data_df['Cast'] = movie_data_df['Cast'].str.split(',').apply(lambda x: ', '.join(x[:2]))

# Check the results to ensure the transformation
#filtered_df = movie_data_df[movie_data_df['Cast'].str.split(',').apply(len) == 2]
# Split the Cast column into two separate columns
movie_data_df[['Actor1', 'Actor2']] = movie_data_df['Cast'].str.split(',', n=1, expand=True)
#filtered_df
movie_data_df


# Strip any leading/trailing whitespace from the new columns
movie_data_df['Actor1'] = movie_data_df['Actor1'].str.strip()
movie_data_df['Actor2'] = movie_data_df['Actor2'].str.strip()

# Combine both actor columns into a single column for analysis
exploded_df = movie_data_df.melt(id_vars=[col for col in movie_data_df.columns if col not in ['Actor1', 'Actor2']],
                                 value_vars=['Actor1', 'Actor2'],
                                 value_name='Actor').drop('variable', axis=1)
exploded_df


# Calculate the total Worldwide Gross for each actor
actor_sales_df = exploded_df.groupby('Actor')['Worldwide Gross'].sum().reset_index()

# Sort the DataFrame by Worldwide Gross in descending order
actor_sales_df_sorted = actor_sales_df.sort_values(by='Worldwide Gross', ascending=False)

# Display the sorted DataFrame
actor_sales_df_sorted.head(10)


# Top 10 Actors by Total Worldwide Gross - Barh Chart
top_actors = actor_sales_df_sorted.head(10)
plt.figure(figsize=(10, 6))
plt.barh(top_actors['Actor'], top_actors['Worldwide Gross'], color='skyblue')
plt.xlabel('Total Worldwide Gross')
plt.ylabel('Top 10 Actors')
plt.title('Top 10 Actors by Total Worldwide Gross')
plt.gca().invert_yaxis()
plt.tight_layout()
plt.gca().xaxis.set_major_formatter(ticker.FuncFormatter(lambda x, pos: f'{int(x):,}'))
plt.savefig('movie_analysis_visualizations/actor_vs_worldwide_sales.png')
plt.show()


# MPAA Rating vs. Worldwide Sales - Box Plot
plt.figure(figsize=(10, 6))
mpaa_ratings = movie_data_df['MPAA'].unique()
mpaa_data = [movie_data_df[movie_data_df['MPAA'] == rating]['Worldwide Gross'] for rating in mpaa_ratings]
plt.boxplot(mpaa_data, labels=mpaa_ratings)
plt.xlabel('MPAA Rating')
plt.ylabel('Worldwide Gross ($)')
plt.title('MPAA Rating vs. Worldwide Sales')
plt.gca().yaxis.set_major_formatter(ticker.FuncFormatter(lambda y, pos: f'{int(y):,}'))

# ANOVA test between multiple MPAA rating groups (G, PG, PG-13, R)
group_g = movie_data_df[movie_data_df['MPAA'] == 'G']['Worldwide Gross'].dropna()
group_pg = movie_data_df[movie_data_df['MPAA'] == 'PG']['Worldwide Gross'].dropna()
group_pg_13 = movie_data_df[movie_data_df['MPAA'] == 'PG-13']['Worldwide Gross'].dropna()
group_r = movie_data_df[movie_data_df['MPAA'] == 'R']['Worldwide Gross'].dropna()
f_stat, p_val = f_oneway(group_g, group_pg, group_pg_13, group_r)

# Simple annotation with F-statistic and p-value
plt.text(0.95, 0.95, f'F-statistic: {f_stat:.2f}\nP-value: {p_val:.2e}',
         transform=plt.gca().transAxes, fontsize=10, verticalalignment='top', horizontalalignment='right')

plt.tight_layout()
plt.savefig('movie_analysis_visualizations/mpaa_rating_vs_avg_worldwide_sales_bx.png')
plt.show()
