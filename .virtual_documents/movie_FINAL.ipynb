


from matplotlib import pyplot as plt
from matplotlib import ticker
from matplotlib.patches import Rectangle
from matplotlib.colors import LinearSegmentedColormap
from scipy import stats
from scipy.stats import stats
from scipy.stats import ttest_ind
from scipy.stats import sem
from scipy.stats import linregress
from scipy.stats import f_oneway
from sklearn import datasets
import pandas as pd
import numpy as np
import scipy.stats as st
import warnings
warnings.filterwarnings('ignore')





clean_data = "Resource/movie_clean.csv"
clean_data_df = pd.read_csv(clean_data)
clean_data_df





# Calculate Profit Margin
clean_data_df['Profit Margin'] = clean_data_df['Worldwide Gross'] - clean_data_df['Production Cost']

# Perform linear regression using scipy
rating = clean_data_df['Rating']
profit_margin_1 = clean_data_df['Profit Margin']
slope, intercept, r_value, p_value, std_err = linregress(rating, profit_margin_1)

# Calculate the regression line values
regression_line = slope * rating + intercept

# Print the r_value and p_value
print(f'Correlation coefficient (r): {r_value:.2f}')
print(f'Probability value (p): {p_value}')

# Plotting
plt.scatter(rating, profit_margin_1, color='mediumspringgreen', label='Data points')
plt.plot(rating, regression_line, color='mediumslateblue', label=f'Regression line (r = {r_value:.2f})')
plt.xlabel('IMDB Rating')
plt.ylabel('Profit Margin ($)')
plt.title('Profit Margin vs. IMDB Rating')
plt.legend()
plt.gca().yaxis.set_major_formatter(ticker.FuncFormatter(lambda y, pos: f'{int(y):,}'))
plt.tight_layout()

#Save image to Visuals folder
plt.savefig("movie_analysis_visualizations/profitvrating.png")
plt.show()





# Convert 'Release Date' to datetime
clean_data_df['Release Date'] = pd.to_datetime(clean_data_df['Release Date'])

# Define the summer months
summer_months = [5, 6, 7, 8, 9]

# Categorize 'Release Date' into 'Summer' and 'Non-Summer'
clean_data_df['Season'] = np.where(clean_data_df['Release Date'].dt.month.isin(summer_months), 'Summer', 'Non-Summer')

# Independent t-test
summer_data = clean_data_df[clean_data_df['Season'] == 'Summer']['Opening Weekend']
non_summer_data = clean_data_df[clean_data_df['Season'] == 'Non-Summer']['Opening Weekend']
t_stat, p_val = ttest_ind(summer_data, non_summer_data, equal_var=False)

# Box plot for visualization
plt.figure(figsize=(10, 6))
clean_data_df.boxplot(column='Opening Weekend', by='Season', grid=False)
plt.text(0.95, 0.95, f'T-statistic: {t_stat:.2f}/P-value: {p_val:.2e}', transform=plt.gca().transAxes, fontsize=10, verticalalignment='top', horizontalalignment='right')
plt.title('Opening Weekend by Season')
plt.suptitle('')
plt.xlabel('Season')
plt.ylabel('Opening Weekend ($)')
plt.gca().yaxis.set_major_formatter(ticker.FuncFormatter(lambda y, pos: f'{int(y):,}'))
plt.tight_layout()
#Save image to Visuals folder
plt.savefig("movie_analysis_visualizations/openingbyseason.png")
plt.show()

print(f'T-statistic: {t_stat:.2f}')
print(f'P-value: {p_val:.2f}')





#Assign values for rating and duration
rating = clean_data_df['Rating']
duration = clean_data_df['Duration (min)']
#Perform linear regression
slope, intercept, r_value, p_value, std_err = linregress(rating, duration)

# Regression line values
regression_line = slope * rating + intercept
# Calculate the regression line values
print(f'Correlation coefficient (r): {r_value:.2f}')
#Print p-value
print(f'Probability value (p): {p_value}')

# Created scatter plot
plt.scatter(rating, duration, label = 'Data Points')
plt.plot(rating, regression_line, color='purple', label=f'Regression line (r = {r_value:.2f})')
plt.xlabel('IMDB Rating')
plt.ylabel('Duration (Minutes)')
plt.title('Duration vs IMDB Viewer Rating')
plt.tight_layout()
plt.legend()
plt.savefig("movie_analysis_visualizations/durationvrating.png")
plt.show()





#Assign Values for duration and worldwide gross
duration = clean_data_df['Duration (min)']
worldwide_gross = clean_data_df['Worldwide Gross']

#Perform Linear Regression
slope, intercept, r_value, p_value, std_err = linregress(duration, worldwide_gross)
# Calculate regression line values
regression_line = slope * duration + intercept
# Calculate the regression line values
print(f'Correlation coefficient (r): {r_value:.2f}')

#Print p-value
print(f'Probability value (p): {p_value}')

#Create Scatter Plot
plt.scatter(duration, worldwide_gross, color='gold', label ='Data Points')
plt.plot(duration, regression_line, color ='mediumslateblue', label=f'Regression line (r = {r_value:.2f})')
plt.xlabel('Duration (Minutes)')
plt.ylabel('Worldwide Sales ($)')
plt.title ('Duration vs Worldwide Sales')
#Change into numbers with commas
plt.gca().yaxis.set_major_formatter(ticker.FuncFormatter(lambda y, pos: f'{int(y):,}'))
plt.tight_layout()
plt.legend()
plt.savefig("movie_analysis_visualizations/durationvsales.png")
plt.show()





# Assign Values and change to numeric values
worldwide_gross = clean_data_df['Worldwide Gross']
opening_weekend = clean_data_df['Opening Weekend']
production_cost = clean_data_df['Production Cost']
worldwide_gross = pd.to_numeric(worldwide_gross, errors='coerce')
opening_weekend = pd.to_numeric(opening_weekend, errors='coerce')
production_cost = pd.to_numeric(production_cost, errors='coerce')


# Perform linear regression using scipy
slope, intercept, r_value, p_value, std_err = linregress(opening_weekend, worldwide_gross)
# Calculate the regression line values
regression_line = slope * opening_weekend + intercept
#Print p-value
print(f'Probability value (p): {p_value}')
# Plot the scatter plot
plt.scatter(opening_weekend, worldwide_gross, color='darkorange', label='Data points')
plt.plot(opening_weekend, regression_line, color='mediumslateblue', label=f'Regression line (r = {r_value:.2f})')
# Add titles and labels
plt.title('Opening Weekend Sales vs. Worldwide Sales')
plt.xlabel('Opening Weekend Sales ($)')
plt.ylabel('Worldwide Sales ($)') 
# Change format of axis to show whole numbers with commas
plt.gca().xaxis.set_major_formatter(ticker.FuncFormatter(lambda x, pos: f'{int(x):,}'))
plt.gca().yaxis.set_major_formatter(ticker.FuncFormatter(lambda y, pos: f'{int(y):,}'))
# Rotate x-axis labels for better readability
plt.xticks(rotation=45, ha='right')
# Add legend
plt.legend()
# Save image to Visuals folder
plt.savefig("movie_analysis_visualizations/openingvworldwide.png", bbox_inches='tight')
# Show the plot
plt.show()





# Perform linear regression using scipy
slope, intercept, r_value, p_value, std_err = linregress(production_cost, worldwide_gross)
# Calculate the regression line values
regression_line1 = slope * production_cost + intercept
#Print p-value
print(f'Probability value (p): {p_value}')
# Plot the scatter plot
plt.scatter(production_cost, worldwide_gross, color='firebrick', label='Data points')
plt.plot(production_cost, regression_line1, color='mediumslateblue', label=f'Regression line (r = {r_value:.2f})')
# Add titles and labels
plt.title('Production Cost vs. Worldwide Sales')
plt.xlabel('Production Cost ($)')
plt.ylabel('Worldwide Sales ($)') 
# Change format of axis to show whole numbers with commas
plt.gca().xaxis.set_major_formatter(ticker.FuncFormatter(lambda x, pos: f'{int(x):,}'))
plt.gca().yaxis.set_major_formatter(ticker.FuncFormatter(lambda y, pos: f'{int(y):,}'))
# Rotate x-axis labels for better readability
plt.xticks(rotation=45, ha='right')
# Add legend
plt.legend()
# Save image to Visuals folder
plt.savefig("movie_analysis_visualizations/costvsales.png", bbox_inches='tight')
# Show the plot
plt.show()





# Create a fresh copy of clean_data_df to avoid carryover from previous operations
profit_margin_df = clean_data_df.copy()

# Drop all columns except worldwide sales, production cost, and genre
profit_margin_df = profit_margin_df[['Worldwide Gross', 'Production Cost', 'Genre']]

# Calculate profit margin by movie and store as a new column
profit_margin = profit_margin_df['Worldwide Gross'] - profit_margin_df['Production Cost']
profit_margin_df.insert(3, "Profit Margin", profit_margin, True)

# Drop the 'Worldwide Gross' and 'Production Cost' columns
profit_margin_df.drop(columns=['Worldwide Gross', 'Production Cost'], inplace=True)

# Display dataframe and data types
print(profit_margin_df.dtypes)
profit_margin_df


# Calculate number of unique genres in profit_margin_df
genre_values_unique=[]

genre_count_unique=profit_margin_df['Genre'].nunique()
genre_values_unique=profit_margin_df['Genre'].unique()

# Display unique count and values
print(genre_count_unique)
genre_values_unique



# Create box plot for profit margin by genre
box_plot = profit_margin_df.plot.box(column='Profit Margin', by='Genre', color='mediumspringgreen', figsize=(8,7), fontsize=14)

# Additional chart formatting
plt.xticks(range(1, len(genre_values_unique) + 1), genre_values_unique, rotation=90)
plt.title('Profit Margin by Genre',fontdict={'fontsize':14})
plt.xlabel('Genre',fontdict={'fontsize':14})
plt.ylabel('Profit Margin',fontdict={'fontsize':14})
plt.gca().yaxis.set_major_formatter(ticker.FuncFormatter(lambda y, pos: f'{int(y):,}'))

# Save image to Visuals folder
plt.savefig("movie_analysis_visualizations/profit_margin_by_genre.png",bbox_inches='tight')

# Display chart
plt.show()


# ANOVA Analysis pt.1

# Initialize an empty dictionary to store the groups
groups = {}
unique_genres = profit_margin_df["Genre"].unique()

# Create groups based on the genre
for genre in unique_genres:
    group_name = f"group_{genre}"
    group = profit_margin_df[profit_margin_df["Genre"].apply(lambda x: genre in x)]["Profit Margin"]
    groups[group_name] = group

# Access the groups using the dictionary
for group_name, group_data in groups.items():
    print(f'----------------------------')
    print(f"{group_name}: {group_data}/n")


# ANOVA Analysis pt.2

# Extract profit margin data from the groups
group_data = [group.values for group in groups.values()]

# Perform one-way ANOVA
f_statistic, p_value = stats.f_oneway(*group_data)

# Print the results
print("ANOVA Results:")
print(f"F-Statistic: {f_statistic}")
print(f"P-Value: {p_value}")

# Interpret the results
if f_statistic > 1.938:
    print("The ANOVA test indicates that there are significant differences between the groups.")
else:
    print("The ANOVA test does not show significant differences between the groups.")





#Specifying file paths
movie_data = "Resource/movie_clean.csv"

#Reading all data into Pandas
movie_data_df = pd.read_csv(movie_data)

#Print the csv
movie_data_df





# Split the Cast column by commas, take the first two names, and join them back together
movie_data_df['Cast'] = movie_data_df['Cast'].str.split(',').apply(lambda x: ', '.join(x[:2]))

# Check the results to ensure the transformation
#filtered_df = movie_data_df[movie_data_df['Cast'].str.split(',').apply(len) == 2]
# Split the Cast column into two separate columns
movie_data_df[['Actor1', 'Actor2']] = movie_data_df['Cast'].str.split(',', n=1, expand=True)
#filtered_df
movie_data_df


# Strip any leading/trailing whitespace from the new columns
movie_data_df['Actor1'] = movie_data_df['Actor1'].str.strip()
movie_data_df['Actor2'] = movie_data_df['Actor2'].str.strip()

# Combine both actor columns into a single column for analysis
exploded_df = movie_data_df.melt(id_vars=[col for col in movie_data_df.columns if col not in ['Actor1', 'Actor2']],
                                 value_vars=['Actor1', 'Actor2'],
                                 value_name='Actor').drop('variable', axis=1)
exploded_df


# Calculate the total Worldwide Gross for each actor
actor_sales_df = exploded_df.groupby('Actor')['Worldwide Gross'].sum().reset_index()

# Sort the DataFrame by Worldwide Gross in descending order
actor_sales_df_sorted = actor_sales_df.sort_values(by='Worldwide Gross', ascending=False)

# Display the sorted DataFrame
actor_sales_df_sorted.head(10)


# Top 10 Actors by Total Worldwide Gross - Barh Chart
top_actors = actor_sales_df_sorted.head(10)
plt.figure(figsize=(10, 6))
plt.barh(top_actors['Actor'], top_actors['Worldwide Gross'], color='skyblue')
plt.xlabel('Total Worldwide Gross')
plt.ylabel('Top 10 Actors')
plt.title('Top 10 Actors by Total Worldwide Gross')
plt.gca().invert_yaxis()
plt.tight_layout()
plt.gca().xaxis.set_major_formatter(ticker.FuncFormatter(lambda x, pos: f'{int(x):,}'))
plt.savefig('movie_analysis_visualizations/actor_vs_worldwide_sales.png')
plt.show()





# MPAA Rating vs. Worldwide Sales - Box Plot
plt.figure(figsize=(10, 6))
mpaa_ratings = movie_data_df['MPAA'].unique()
mpaa_data = [movie_data_df[movie_data_df['MPAA'] == rating]['Worldwide Gross'] for rating in mpaa_ratings]
plt.boxplot(mpaa_data, labels=mpaa_ratings)
plt.xlabel('MPAA Rating')
plt.ylabel('Worldwide Gross ($)')
plt.title('MPAA Rating vs. Worldwide Sales')
plt.gca().yaxis.set_major_formatter(ticker.FuncFormatter(lambda y, pos: f'{int(y):,}'))

# ANOVA test between multiple MPAA rating groups (G, PG, PG-13, R)
group_g = movie_data_df[movie_data_df['MPAA'] == 'G']['Worldwide Gross'].dropna()
group_pg = movie_data_df[movie_data_df['MPAA'] == 'PG']['Worldwide Gross'].dropna()
group_pg_13 = movie_data_df[movie_data_df['MPAA'] == 'PG-13']['Worldwide Gross'].dropna()
group_r = movie_data_df[movie_data_df['MPAA'] == 'R']['Worldwide Gross'].dropna()
f_stat, p_val = f_oneway(group_g, group_pg, group_pg_13, group_r)

# Simple annotation with F-statistic and p-value
plt.text(0.95, 0.95, f'F-statistic: {f_stat:.2f}\nP-value: {p_val:.2e}',
         transform=plt.gca().transAxes, fontsize=10, verticalalignment='top', horizontalalignment='right')

plt.tight_layout()
plt.savefig('movie_analysis_visualizations/mpaa_rating_vs_avg_worldwide_sales_bx.png')
plt.show()



